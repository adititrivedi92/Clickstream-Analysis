{
 "cells": [
  {
   "cell_type": "code",
   "execution_count": 2,
   "metadata": {
    "_cell_guid": "b1076dfc-b9ad-4769-8c92-a6c4dae69d19",
    "_uuid": "8f2839f25d086af736a60e9eeb907d3b93b6e0e5",
    "scrolled": false
   },
   "outputs": [],
   "source": [
    "import matplotlib.pyplot as plt\n",
    "import seaborn as sns\n",
    "import numpy as np \n",
    "import pandas as pd\n",
    "import os\n",
    "\n",
    "\n",
    "%matplotlib inline\n",
    "plt.style.use('seaborn-white')\n"
   ]
  },
  {
   "cell_type": "markdown",
   "metadata": {
    "_uuid": "3d4b589acb24ebb7bc7a30057e0788ddc1a7df0e"
   },
   "source": [
    "## Data Wrangling"
   ]
  },
  {
   "cell_type": "code",
   "execution_count": 3,
   "metadata": {
    "_uuid": "94641df628bc2f6ce649294f379505a0f5861b1c",
    "scrolled": true
   },
   "outputs": [
    {
     "name": "stdout",
     "output_type": "stream",
     "text": [
      "buys train shape (1150753, 5)\n"
     ]
    },
    {
     "name": "stderr",
     "output_type": "stream",
     "text": [
      "//anaconda3/lib/python3.7/site-packages/IPython/core/interactiveshell.py:3057: DtypeWarning: Columns (3) have mixed types. Specify dtype option on import or set low_memory=False.\n",
      "  interactivity=interactivity, compiler=compiler, result=result)\n"
     ]
    },
    {
     "name": "stdout",
     "output_type": "stream",
     "text": [
      "clicks_raw train shape (33003944, 4)\n"
     ]
    },
    {
     "name": "stderr",
     "output_type": "stream",
     "text": [
      "//anaconda3/lib/python3.7/site-packages/ipykernel_launcher.py:12: FutureWarning: Sorting because non-concatenation axis is not aligned. A future version\n",
      "of pandas will change to not sort by default.\n",
      "\n",
      "To accept the future behavior, pass 'sort=False'.\n",
      "\n",
      "To retain the current behavior and silence the warning, pass 'sort=True'.\n",
      "\n",
      "  if sys.path[0] == '':\n"
     ]
    },
    {
     "name": "stdout",
     "output_type": "stream",
     "text": [
      "union shape (34154697, 7)\n"
     ]
    },
    {
     "data": {
      "text/html": [
       "<div>\n",
       "<style scoped>\n",
       "    .dataframe tbody tr th:only-of-type {\n",
       "        vertical-align: middle;\n",
       "    }\n",
       "\n",
       "    .dataframe tbody tr th {\n",
       "        vertical-align: top;\n",
       "    }\n",
       "\n",
       "    .dataframe thead th {\n",
       "        text-align: right;\n",
       "    }\n",
       "</style>\n",
       "<table border=\"1\" class=\"dataframe\">\n",
       "  <thead>\n",
       "    <tr style=\"text-align: right;\">\n",
       "      <th></th>\n",
       "      <th>cat</th>\n",
       "      <th>cnt</th>\n",
       "      <th>itemID</th>\n",
       "      <th>price</th>\n",
       "      <th>sessionID</th>\n",
       "      <th>status</th>\n",
       "      <th>ts</th>\n",
       "    </tr>\n",
       "  </thead>\n",
       "  <tbody>\n",
       "    <tr>\n",
       "      <th>1</th>\n",
       "      <td>0</td>\n",
       "      <td>NaN</td>\n",
       "      <td>214536500</td>\n",
       "      <td>NaN</td>\n",
       "      <td>1</td>\n",
       "      <td>0</td>\n",
       "      <td>2014-04-07T10:54:09.868Z</td>\n",
       "    </tr>\n",
       "    <tr>\n",
       "      <th>0</th>\n",
       "      <td>0</td>\n",
       "      <td>NaN</td>\n",
       "      <td>214536502</td>\n",
       "      <td>NaN</td>\n",
       "      <td>1</td>\n",
       "      <td>0</td>\n",
       "      <td>2014-04-07T10:51:09.277Z</td>\n",
       "    </tr>\n",
       "    <tr>\n",
       "      <th>2</th>\n",
       "      <td>0</td>\n",
       "      <td>NaN</td>\n",
       "      <td>214536506</td>\n",
       "      <td>NaN</td>\n",
       "      <td>1</td>\n",
       "      <td>0</td>\n",
       "      <td>2014-04-07T10:54:46.998Z</td>\n",
       "    </tr>\n",
       "    <tr>\n",
       "      <th>3</th>\n",
       "      <td>0</td>\n",
       "      <td>NaN</td>\n",
       "      <td>214577561</td>\n",
       "      <td>NaN</td>\n",
       "      <td>1</td>\n",
       "      <td>0</td>\n",
       "      <td>2014-04-07T10:57:00.306Z</td>\n",
       "    </tr>\n",
       "    <tr>\n",
       "      <th>9</th>\n",
       "      <td>0</td>\n",
       "      <td>NaN</td>\n",
       "      <td>214551617</td>\n",
       "      <td>NaN</td>\n",
       "      <td>2</td>\n",
       "      <td>0</td>\n",
       "      <td>2014-04-07T14:02:36.889Z</td>\n",
       "    </tr>\n",
       "  </tbody>\n",
       "</table>\n",
       "</div>"
      ],
      "text/plain": [
       "  cat  cnt     itemID  price  sessionID  status                        ts\n",
       "1   0  NaN  214536500    NaN          1       0  2014-04-07T10:54:09.868Z\n",
       "0   0  NaN  214536502    NaN          1       0  2014-04-07T10:51:09.277Z\n",
       "2   0  NaN  214536506    NaN          1       0  2014-04-07T10:54:46.998Z\n",
       "3   0  NaN  214577561    NaN          1       0  2014-04-07T10:57:00.306Z\n",
       "9   0  NaN  214551617    NaN          2       0  2014-04-07T14:02:36.889Z"
      ]
     },
     "execution_count": 3,
     "metadata": {},
     "output_type": "execute_result"
    }
   ],
   "source": [
    "\n",
    "buys_raw=pd.read_csv('yoochoose-buys.csv',names=['sessionID','ts','itemID','price','cnt'])\n",
    "print(\"buys train shape\",buys_raw.shape)\n",
    "buys_raw['status']=1\n",
    "\n",
    "\n",
    "clicks_raw=pd.read_csv('yoochoose-clicks.csv',names=['sessionID','ts','itemID','cat'])\n",
    "print(\"clicks_raw train shape\",clicks_raw.shape)\n",
    "clicks_raw['status']=0\n",
    "\n",
    "union=pd.concat([clicks_raw, buys_raw], ignore_index=True).sort_values(by=['sessionID','itemID'])\n",
    "print(\"union shape\",union.shape)\n",
    "union.head()"
   ]
  },
  {
   "cell_type": "code",
   "execution_count": 4,
   "metadata": {},
   "outputs": [],
   "source": [
    "#datetime manipulation\n",
    "union['ts']=pd.to_datetime(union.ts,infer_datetime_format=True)"
   ]
  },
  {
   "cell_type": "code",
   "execution_count": 5,
   "metadata": {},
   "outputs": [
    {
     "data": {
      "text/plain": [
       "2"
      ]
     },
     "execution_count": 5,
     "metadata": {},
     "output_type": "execute_result"
    }
   ],
   "source": [
    "union.head(12345).groupby([\"itemID\",\"sessionID\"])[\"status\"].nunique().max()"
   ]
  },
  {
   "cell_type": "code",
   "execution_count": 6,
   "metadata": {
    "_uuid": "0b593481c38f819e6b72f068d55fc3359272d8a3",
    "scrolled": true
   },
   "outputs": [],
   "source": [
    "#NaN\n",
    "union['cat']=union['cat'].fillna(method='ffill')\n",
    "\n",
    "\n",
    "union['hour']=union.ts.dt.hour\n",
    "union['weekday']=union['ts'].dt.dayofweek.astype(int)+1"
   ]
  },
  {
   "cell_type": "code",
   "execution_count": 7,
   "metadata": {
    "_uuid": "5cec03ad4a4f1971caff9e3c4ffceed93e25a2b1"
   },
   "outputs": [
    {
     "data": {
      "text/html": [
       "<div>\n",
       "<style scoped>\n",
       "    .dataframe tbody tr th:only-of-type {\n",
       "        vertical-align: middle;\n",
       "    }\n",
       "\n",
       "    .dataframe tbody tr th {\n",
       "        vertical-align: top;\n",
       "    }\n",
       "\n",
       "    .dataframe thead th {\n",
       "        text-align: right;\n",
       "    }\n",
       "</style>\n",
       "<table border=\"1\" class=\"dataframe\">\n",
       "  <thead>\n",
       "    <tr style=\"text-align: right;\">\n",
       "      <th></th>\n",
       "      <th>cat</th>\n",
       "      <th>cnt</th>\n",
       "      <th>itemID</th>\n",
       "      <th>price</th>\n",
       "      <th>sessionID</th>\n",
       "      <th>status</th>\n",
       "      <th>ts</th>\n",
       "      <th>hour</th>\n",
       "      <th>weekday</th>\n",
       "    </tr>\n",
       "  </thead>\n",
       "  <tbody>\n",
       "    <tr>\n",
       "      <th>1</th>\n",
       "      <td>0</td>\n",
       "      <td>NaN</td>\n",
       "      <td>214536500</td>\n",
       "      <td>NaN</td>\n",
       "      <td>1</td>\n",
       "      <td>0</td>\n",
       "      <td>2014-04-07 10:54:09.868000+00:00</td>\n",
       "      <td>10</td>\n",
       "      <td>1</td>\n",
       "    </tr>\n",
       "    <tr>\n",
       "      <th>0</th>\n",
       "      <td>0</td>\n",
       "      <td>NaN</td>\n",
       "      <td>214536502</td>\n",
       "      <td>NaN</td>\n",
       "      <td>1</td>\n",
       "      <td>0</td>\n",
       "      <td>2014-04-07 10:51:09.277000+00:00</td>\n",
       "      <td>10</td>\n",
       "      <td>1</td>\n",
       "    </tr>\n",
       "    <tr>\n",
       "      <th>2</th>\n",
       "      <td>0</td>\n",
       "      <td>NaN</td>\n",
       "      <td>214536506</td>\n",
       "      <td>NaN</td>\n",
       "      <td>1</td>\n",
       "      <td>0</td>\n",
       "      <td>2014-04-07 10:54:46.998000+00:00</td>\n",
       "      <td>10</td>\n",
       "      <td>1</td>\n",
       "    </tr>\n",
       "    <tr>\n",
       "      <th>3</th>\n",
       "      <td>0</td>\n",
       "      <td>NaN</td>\n",
       "      <td>214577561</td>\n",
       "      <td>NaN</td>\n",
       "      <td>1</td>\n",
       "      <td>0</td>\n",
       "      <td>2014-04-07 10:57:00.306000+00:00</td>\n",
       "      <td>10</td>\n",
       "      <td>1</td>\n",
       "    </tr>\n",
       "    <tr>\n",
       "      <th>9</th>\n",
       "      <td>0</td>\n",
       "      <td>NaN</td>\n",
       "      <td>214551617</td>\n",
       "      <td>NaN</td>\n",
       "      <td>2</td>\n",
       "      <td>0</td>\n",
       "      <td>2014-04-07 14:02:36.889000+00:00</td>\n",
       "      <td>14</td>\n",
       "      <td>1</td>\n",
       "    </tr>\n",
       "  </tbody>\n",
       "</table>\n",
       "</div>"
      ],
      "text/plain": [
       "  cat  cnt     itemID  price  sessionID  status  \\\n",
       "1   0  NaN  214536500    NaN          1       0   \n",
       "0   0  NaN  214536502    NaN          1       0   \n",
       "2   0  NaN  214536506    NaN          1       0   \n",
       "3   0  NaN  214577561    NaN          1       0   \n",
       "9   0  NaN  214551617    NaN          2       0   \n",
       "\n",
       "                                ts  hour  weekday  \n",
       "1 2014-04-07 10:54:09.868000+00:00    10        1  \n",
       "0 2014-04-07 10:51:09.277000+00:00    10        1  \n",
       "2 2014-04-07 10:54:46.998000+00:00    10        1  \n",
       "3 2014-04-07 10:57:00.306000+00:00    10        1  \n",
       "9 2014-04-07 14:02:36.889000+00:00    14        1  "
      ]
     },
     "execution_count": 7,
     "metadata": {},
     "output_type": "execute_result"
    }
   ],
   "source": [
    "union.head()"
   ]
  },
  {
   "cell_type": "markdown",
   "metadata": {
    "_uuid": "548ded829bd89cd43cfe4f0bfdcc5d9c6264df8b"
   },
   "source": [
    "## EDA"
   ]
  },
  {
   "cell_type": "markdown",
   "metadata": {
    "_uuid": "3a6fcd92b4f64cf7e66084f595756371f3b95cf9"
   },
   "source": [
    "## Overview"
   ]
  },
  {
   "cell_type": "code",
   "execution_count": 8,
   "metadata": {
    "_uuid": "098e9036435bcf8cc059ded6ff44fc5c82ad36bc"
   },
   "outputs": [],
   "source": [
    "buyID_num=buys_raw.sessionID.nunique() #\n",
    "buyEvents=buys_raw.shape[0]\n",
    "clickID_num=clicks_raw.sessionID.nunique()\n",
    "itemClicks=clicks_raw.shape[0]\n",
    "BC_ratio=buyID_num/clickID_num"
   ]
  },
  {
   "cell_type": "code",
   "execution_count": 9,
   "metadata": {
    "_uuid": "022fdf8bdfbf58dc5072b4bcb014ac2da887eb69",
    "scrolled": false
   },
   "outputs": [
    {
     "name": "stdout",
     "output_type": "stream",
     "text": [
      "buyID_num:509696 \n",
      "buyEvents:1150753 \n",
      "clickID_num:9249729 \n",
      "itemClicks:33003944 \n",
      "buy ratio of sessions :0.05510388466516154\n",
      "buy ratio of clicks:0.1244093745881636\n"
     ]
    }
   ],
   "source": [
    "print(r'''buyID_num:{} \n",
    "buyEvents:{} \n",
    "clickID_num:{} \n",
    "itemClicks:{} \n",
    "buy ratio of sessions :{}\n",
    "buy ratio of clicks:{}'''\n",
    ".format(buyID_num,buyEvents,clickID_num,itemClicks,BC_ratio,buyEvents/clickID_num))"
   ]
  },
  {
   "cell_type": "code",
   "execution_count": 9,
   "metadata": {
    "_uuid": "04db6fe7e428ac6ec5bd9316bc253ef579c95875"
   },
   "outputs": [
    {
     "data": {
      "text/plain": [
       "0.1244093745881636"
      ]
     },
     "execution_count": 9,
     "metadata": {},
     "output_type": "execute_result"
    }
   ],
   "source": [
    "buyEvents/clickID_num"
   ]
  },
  {
   "cell_type": "markdown",
   "metadata": {
    "_uuid": "e925585a9bb4193d717dc12502479549c31a65ed"
   },
   "source": [
    "# Statistics\n"
   ]
  },
  {
   "cell_type": "markdown",
   "metadata": {
    "_uuid": "9cb013c3d41f4835531ff9c8c3af44066a60ec91"
   },
   "source": [
    "## Buy Ratio Averaged for Time"
   ]
  },
  {
   "cell_type": "code",
   "execution_count": 10,
   "metadata": {
    "_uuid": "7b5a6076eec4b6314b624bbd96989617527947cd"
   },
   "outputs": [],
   "source": [
    "# Buy ratio averaged for hour\n",
    "hour_info=union.groupby(['hour','status'])['sessionID'].nunique().reset_index(name='count')\n",
    "hour_click=hour_info[hour_info['status']==0]\n",
    "hour_buy=hour_info[hour_info['status']==1]\n",
    "hour_info=pd.merge(hour_click,hour_buy,on='hour')\n",
    "hour_info['ratio']=hour_info['count_y']/hour_info['count_x']"
   ]
  },
  {
   "cell_type": "code",
   "execution_count": 11,
   "metadata": {
    "_uuid": "0af4ffc0efbcb186fdbedb6b3595336222ea215a"
   },
   "outputs": [],
   "source": [
    "# Buy ratio averaged for weekday\n",
    "weekday_info=union.groupby(['weekday','status'])['sessionID'].nunique().reset_index(name='count')\n",
    "weekday_click=weekday_info[weekday_info['status']==0]\n",
    "weekday_buy=weekday_info[weekday_info['status']==1]\n",
    "weekday_info=pd.merge(weekday_click,weekday_buy,on='weekday')\n",
    "weekday_info['ratio']=weekday_info.count_y/weekday_info.count_x"
   ]
  },
  {
   "cell_type": "code",
   "execution_count": 18,
   "metadata": {
    "_uuid": "e515ee70a7faeba91c05c1d6d0f57ab0233236b4",
    "scrolled": false
   },
   "outputs": [
    {
     "data": {
      "image/png": "[encoded data removed]",
      "text/plain": [
       "<Figure size 1080x432 with 2 Axes>"
      ]
     },
     "metadata": {},
     "output_type": "display_data"
    }
   ],
   "source": [
    "fig = plt.figure(figsize=(15,6))\n",
    "fig.suptitle(' Buy Ratio Averaged for Time', fontsize=20)\n",
    "\n",
    "ax1 = fig.add_subplot(121)\n",
    "ax2 = fig.add_subplot(122)\n",
    "\n",
    "ax1.bar(hour_info['hour'],hour_info['ratio'],width=0.6,color='b')\n",
    "\n",
    "\n",
    "ax1.set_xlabel('$hour$', fontsize=17)\n",
    "ax1.set_ylabel('$buy/click ratio$', fontsize=17)\n",
    "ax2.bar(weekday_info['weekday'],weekday_info['ratio'],width=0.5,color='b')\n",
    "ax2.set_xlabel('$weekday$', fontsize=17)\n",
    "ax2.set_ylabel('$buy/click ratio$', fontsize=17)\n",
    "plt.show()"
   ]
  },
  {
   "cell_type": "code",
   "execution_count": null,
   "metadata": {},
   "outputs": [],
   "source": [
    "## buy ratio goes up at end of week and on weekend expecially on saturdays (tie this to pinterest)\n",
    "## buy ratio highest in afternoon to evening before 7pm"
   ]
  },
  {
   "cell_type": "markdown",
   "metadata": {
    "_uuid": "7475a0e04fea39473cd6dad1d71fe55e36f635ce"
   },
   "source": [
    "## Buy Ratio Averaged for Category"
   ]
  },
  {
   "cell_type": "code",
   "execution_count": 19,
   "metadata": {
    "_uuid": "43056b328aed322c7efc1d206eafc67cf5f89d76"
   },
   "outputs": [],
   "source": [
    "def cat_classfier(value):\n",
    "    if value=='S':\n",
    "        return '13'\n",
    "    elif len(value)<=2:\n",
    "        return value\n",
    "    else:\n",
    "        return '14'"
   ]
  },
  {
   "cell_type": "code",
   "execution_count": 20,
   "metadata": {
    "_uuid": "b7556b5e273c2d9858c30da62bae502587cd47e8"
   },
   "outputs": [],
   "source": [
    "union['cat']=union.cat.astype(str).apply(cat_classfier).astype(int)\n",
    "cat_info=union.groupby(['cat','status'])['sessionID'].nunique().reset_index(name='count').sort_values(by='cat')\n",
    "cat_click=cat_info[cat_info['status']==0]\n",
    "cat_buy=cat_info[cat_info['status']==1]\n",
    "cat_info=pd.merge(cat_click,cat_buy,on='cat')\n",
    "cat_info['ratio']=cat_info.count_y/cat_info.count_x"
   ]
  },
  {
   "cell_type": "code",
   "execution_count": 21,
   "metadata": {
    "_uuid": "1392b5391163969e5410cf445ed8373b09be2b60",
    "scrolled": false
   },
   "outputs": [
    {
     "data": {
      "image/png": "[encoded data removed]",
      "text/plain": [
       "<Figure size 1080x432 with 2 Axes>"
      ]
     },
     "metadata": {},
     "output_type": "display_data"
    },
    {
     "data": {
      "text/plain": [
       "<Figure size 576x288 with 0 Axes>"
      ]
     },
     "metadata": {},
     "output_type": "display_data"
    }
   ],
   "source": [
    "fig = plt.figure(figsize=(15,6))\n",
    "fig.suptitle(' Buy Ratio Averaged for Category', fontsize=20)\n",
    "\n",
    "ax1 = fig.add_subplot(121)\n",
    "ax2 = fig.add_subplot(122)\n",
    "\n",
    "\n",
    "fig = plt.figure(figsize=(8,4))\n",
    "\n",
    "ax1.bar(cat_info.cat,cat_info.ratio,width=0.5,color='b')\n",
    "ax1.set_xticks(range(0,15))\n",
    "ax1.set_ylim(0.02)\n",
    "ax1.set_ylabel('$buy/click ratio$',fontsize=16)\n",
    "ax1.set_xlabel('$Category$',fontsize=16)\n",
    "\n",
    "ax2.plot(cat_info.count_x,color='b')\n",
    "ax2.set_yscale('log')\n",
    "ax2.set_ylabel('$clicks$',fontsize=16)\n",
    "ax2.set_xticks(range(0,15))\n",
    "ax2.set_xlabel('$Category$',fontsize=16)\n",
    "\n",
    "plt.show()"
   ]
  },
  {
   "cell_type": "code",
   "execution_count": null,
   "metadata": {},
   "outputs": [],
   "source": [
    "## 13 = special offer, 14 = brand, 0 = uncategorized, 1-12 = category like sports etc\n",
    "\n",
    "## buy ratio highest for category 3, 8, 12 -- however they do not receive many clicks\n",
    "## most clicks received by special offer -- which does not have a high buy ratio "
   ]
  },
  {
   "cell_type": "code",
   "execution_count": null,
   "metadata": {
    "_uuid": "458ec1501047fa6a33edb90e1a9e617ab550a3d1"
   },
   "outputs": [],
   "source": []
  },
  {
   "cell_type": "code",
   "execution_count": null,
   "metadata": {},
   "outputs": [],
   "source": []
  },
  {
   "cell_type": "code",
   "execution_count": null,
   "metadata": {},
   "outputs": [],
   "source": []
  },
  {
   "cell_type": "code",
   "execution_count": null,
   "metadata": {},
   "outputs": [],
   "source": []
  }
 ],
 "metadata": {
  "kernelspec": {
   "display_name": "Python 3",
   "language": "python",
   "name": "python3"
  },
  "language_info": {
   "codemirror_mode": {
    "name": "ipython",
    "version": 3
   },
   "file_extension": ".py",
   "mimetype": "text/x-python",
   "name": "python",
   "nbconvert_exporter": "python",
   "pygments_lexer": "ipython3",
   "version": "3.7.3"
  }
 },
 "nbformat": 4,
 "nbformat_minor": 1
}
